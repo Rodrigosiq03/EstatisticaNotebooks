{
  "cells": [
    {
      "cell_type": "markdown",
      "metadata": {
        "id": "orkjrUu_Qvx3"
      },
      "source": [
        "# Distribuição discreta de probabilidades\n",
        "Uma empresa rastreia o número de vendas que os novos colaboradores\n",
        "fazem todos os dias, durante um período de experiência de 100 dias. Os\n",
        "resultados de um novo colaborador estão indicados na tabela a seguir.\n",
        "\n",
        "![Notebook Aula 09-04.png](data:image/png;base64,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)\n",
        "\n",
        "*   Organize as probabilidades em uma distribuição de probabilidade.\n",
        "*   Represente graficamente a distribuição de probabilidades e a probabilidade acumulada."
      ]
    },
    {
      "cell_type": "code",
      "execution_count": 2,
      "metadata": {
        "id": "8bcemFQ_QbEu"
      },
      "outputs": [
        {
          "name": "stdout",
          "output_type": "stream",
          "text": [
            "** Tabela de dados **\n"
          ]
        },
        {
          "data": {
            "text/html": [
              "<div>\n",
              "<style scoped>\n",
              "    .dataframe tbody tr th:only-of-type {\n",
              "        vertical-align: middle;\n",
              "    }\n",
              "\n",
              "    .dataframe tbody tr th {\n",
              "        vertical-align: top;\n",
              "    }\n",
              "\n",
              "    .dataframe thead th {\n",
              "        text-align: right;\n",
              "    }\n",
              "</style>\n",
              "<table border=\"1\" class=\"dataframe\">\n",
              "  <thead>\n",
              "    <tr style=\"text-align: right;\">\n",
              "      <th></th>\n",
              "      <th>Vendas</th>\n",
              "      <th>Dias</th>\n",
              "      <th>P(x)</th>\n",
              "      <th>P(x) acum</th>\n",
              "    </tr>\n",
              "  </thead>\n",
              "  <tbody>\n",
              "    <tr>\n",
              "      <th>0</th>\n",
              "      <td>0</td>\n",
              "      <td>16</td>\n",
              "      <td>0.16</td>\n",
              "      <td>0.16</td>\n",
              "    </tr>\n",
              "    <tr>\n",
              "      <th>1</th>\n",
              "      <td>1</td>\n",
              "      <td>19</td>\n",
              "      <td>0.19</td>\n",
              "      <td>0.35</td>\n",
              "    </tr>\n",
              "    <tr>\n",
              "      <th>2</th>\n",
              "      <td>2</td>\n",
              "      <td>15</td>\n",
              "      <td>0.15</td>\n",
              "      <td>0.50</td>\n",
              "    </tr>\n",
              "    <tr>\n",
              "      <th>3</th>\n",
              "      <td>3</td>\n",
              "      <td>21</td>\n",
              "      <td>0.21</td>\n",
              "      <td>0.71</td>\n",
              "    </tr>\n",
              "    <tr>\n",
              "      <th>4</th>\n",
              "      <td>4</td>\n",
              "      <td>9</td>\n",
              "      <td>0.09</td>\n",
              "      <td>0.80</td>\n",
              "    </tr>\n",
              "    <tr>\n",
              "      <th>5</th>\n",
              "      <td>5</td>\n",
              "      <td>10</td>\n",
              "      <td>0.10</td>\n",
              "      <td>0.90</td>\n",
              "    </tr>\n",
              "    <tr>\n",
              "      <th>6</th>\n",
              "      <td>6</td>\n",
              "      <td>8</td>\n",
              "      <td>0.08</td>\n",
              "      <td>0.98</td>\n",
              "    </tr>\n",
              "    <tr>\n",
              "      <th>7</th>\n",
              "      <td>7</td>\n",
              "      <td>2</td>\n",
              "      <td>0.02</td>\n",
              "      <td>1.00</td>\n",
              "    </tr>\n",
              "  </tbody>\n",
              "</table>\n",
              "</div>"
            ],
            "text/plain": [
              "   Vendas  Dias  P(x)  P(x) acum\n",
              "0       0    16  0.16       0.16\n",
              "1       1    19  0.19       0.35\n",
              "2       2    15  0.15       0.50\n",
              "3       3    21  0.21       0.71\n",
              "4       4     9  0.09       0.80\n",
              "5       5    10  0.10       0.90\n",
              "6       6     8  0.08       0.98\n",
              "7       7     2  0.02       1.00"
            ]
          },
          "metadata": {},
          "output_type": "display_data"
        },
        {
          "name": "stdout",
          "output_type": "stream",
          "text": [
            "** Gráfico de segmentos verticais (caules) **\n"
          ]
        },
        {
          "data": {
            "image/png": "[encoded data removed]",
            "text/plain": [
              "<Figure size 432x288 with 1 Axes>"
            ]
          },
          "metadata": {
            "needs_background": "light"
          },
          "output_type": "display_data"
        },
        {
          "name": "stdout",
          "output_type": "stream",
          "text": [
            "** Gráfico de barras verticais **\n"
          ]
        },
        {
          "data": {
            "image/png": "[encoded data removed]",
            "text/plain": [
              "<Figure size 432x288 with 1 Axes>"
            ]
          },
          "metadata": {
            "needs_background": "light"
          },
          "output_type": "display_data"
        },
        {
          "name": "stdout",
          "output_type": "stream",
          "text": [
            "** Representação gráfica da probabilidade discreta acumulada **\n"
          ]
        },
        {
          "data": {
            "image/png": "[encoded data removed]",
            "text/plain": [
              "<Figure size 432x288 with 1 Axes>"
            ]
          },
          "metadata": {
            "needs_background": "light"
          },
          "output_type": "display_data"
        }
      ],
      "source": [
        "import pandas as pd\n",
        "import matplotlib.pyplot as plt\n",
        "\n",
        "# Conjunto de dados\n",
        "tabela = pd.DataFrame({'Vendas': list(range(8)),\n",
        "                       'Dias': [16, 19, 15, 21, 9, 10, 8, 2]})\n",
        "# Cálculo das probabilidades\n",
        "'''Seu código aqui!'''\n",
        "tabela['P(x)'] = tabela['Dias'] / tabela['Dias'].sum()\n",
        "# Cáluclo da probabilidade acumulada\n",
        "'''Seu código aqui!'''\n",
        "tabela['P(x) acum'] = tabela['P(x)'].cumsum()\n",
        "# Exibição dos dados\n",
        "print('** Tabela de dados **')\n",
        "display(tabela)\n",
        "# Representação gráfica da distribuição discreta de probabilidades\n",
        "# Gráfico de segmentos verticais (caules)\n",
        "print('** Gráfico de segmentos verticais (caules) **')\n",
        "'''Seu código aqui!'''\n",
        "dist_stem = plt.stem(tabela['Vendas'], tabela['P(x)'], use_line_collection=True)\n",
        "plt.xlabel('Vendas por dia')\n",
        "plt.ylabel('Probabilidades')\n",
        "plt.title('Distribuição discreta de probabilidades')\n",
        "plt.grid()\n",
        "plt.show()\n",
        "# Gráfico de barras verticais\n",
        "print('** Gráfico de barras verticais **')\n",
        "'''Seu código aqui!'''\n",
        "dist_bar = plt.bar(tabela['Vendas'], tabela['P(x)'])\n",
        "\n",
        "plt.xlabel('Vendas por dia')\n",
        "plt.ylabel('Probabilidades')\n",
        "plt.title('Distribuição discreta de probabilidades')\n",
        "plt.grid(True)\n",
        "plt.show()\n",
        "# Representação gráfica da probabilidade discreta acumulada\n",
        "print('** Representação gráfica da probabilidade discreta acumulada **')\n",
        "'''Seu código aqui!'''\n",
        "dist_plot = plt.plot(tabela['Vendas'], tabela['P(x) acum'], 'g-o')\n",
        "\n",
        "plt.xlabel('Vendas por dia')\n",
        "plt.ylabel('Probabilidades')\n",
        "plt.title('Probabilidade discreta acumulada')\n",
        "plt.grid()\n",
        "plt.show()"
      ]
    },
    {
      "cell_type": "markdown",
      "metadata": {
        "id": "GWKoYQhnqPrS"
      },
      "source": [
        "# Média de uma distribuição discreta de probabilidades\n",
        "Calcule a média da distribuição estudada no item anterior."
      ]
    },
    {
      "cell_type": "code",
      "execution_count": 4,
      "metadata": {
        "id": "ozbUZwcLqlLK"
      },
      "outputs": [
        {
          "data": {
            "text/html": [
              "<div>\n",
              "<style scoped>\n",
              "    .dataframe tbody tr th:only-of-type {\n",
              "        vertical-align: middle;\n",
              "    }\n",
              "\n",
              "    .dataframe tbody tr th {\n",
              "        vertical-align: top;\n",
              "    }\n",
              "\n",
              "    .dataframe thead th {\n",
              "        text-align: right;\n",
              "    }\n",
              "</style>\n",
              "<table border=\"1\" class=\"dataframe\">\n",
              "  <thead>\n",
              "    <tr style=\"text-align: right;\">\n",
              "      <th></th>\n",
              "      <th>Vendas</th>\n",
              "      <th>Dias</th>\n",
              "      <th>P(x)</th>\n",
              "      <th>P(x) acum</th>\n",
              "    </tr>\n",
              "  </thead>\n",
              "  <tbody>\n",
              "    <tr>\n",
              "      <th>0</th>\n",
              "      <td>0</td>\n",
              "      <td>16</td>\n",
              "      <td>0.16</td>\n",
              "      <td>0.16</td>\n",
              "    </tr>\n",
              "    <tr>\n",
              "      <th>1</th>\n",
              "      <td>1</td>\n",
              "      <td>19</td>\n",
              "      <td>0.19</td>\n",
              "      <td>0.35</td>\n",
              "    </tr>\n",
              "    <tr>\n",
              "      <th>2</th>\n",
              "      <td>2</td>\n",
              "      <td>15</td>\n",
              "      <td>0.15</td>\n",
              "      <td>0.50</td>\n",
              "    </tr>\n",
              "    <tr>\n",
              "      <th>3</th>\n",
              "      <td>3</td>\n",
              "      <td>21</td>\n",
              "      <td>0.21</td>\n",
              "      <td>0.71</td>\n",
              "    </tr>\n",
              "    <tr>\n",
              "      <th>4</th>\n",
              "      <td>4</td>\n",
              "      <td>9</td>\n",
              "      <td>0.09</td>\n",
              "      <td>0.80</td>\n",
              "    </tr>\n",
              "    <tr>\n",
              "      <th>5</th>\n",
              "      <td>5</td>\n",
              "      <td>10</td>\n",
              "      <td>0.10</td>\n",
              "      <td>0.90</td>\n",
              "    </tr>\n",
              "    <tr>\n",
              "      <th>6</th>\n",
              "      <td>6</td>\n",
              "      <td>8</td>\n",
              "      <td>0.08</td>\n",
              "      <td>0.98</td>\n",
              "    </tr>\n",
              "    <tr>\n",
              "      <th>7</th>\n",
              "      <td>7</td>\n",
              "      <td>2</td>\n",
              "      <td>0.02</td>\n",
              "      <td>1.00</td>\n",
              "    </tr>\n",
              "  </tbody>\n",
              "</table>\n",
              "</div>"
            ],
            "text/plain": [
              "   Vendas  Dias  P(x)  P(x) acum\n",
              "0       0    16  0.16       0.16\n",
              "1       1    19  0.19       0.35\n",
              "2       2    15  0.15       0.50\n",
              "3       3    21  0.21       0.71\n",
              "4       4     9  0.09       0.80\n",
              "5       5    10  0.10       0.90\n",
              "6       6     8  0.08       0.98\n",
              "7       7     2  0.02       1.00"
            ]
          },
          "metadata": {},
          "output_type": "display_data"
        },
        {
          "name": "stdout",
          "output_type": "stream",
          "text": [
            "A média da distribuição é de 2.6 vendas/dia.\n"
          ]
        }
      ],
      "source": [
        "# Inserção da coluna Vendas*Probabilidades\n",
        "'''Seu código aqui!'''\n",
        "display(tabela)\n",
        "# Cálculo da média da distribuição\n",
        "'''Seu código aqui!'''\n",
        "media = (tabela['Vendas'] * tabela['P(x)']).sum()\n",
        "print(f'A média da distribuição é de {media:.1f} vendas/dia.')"
      ]
    },
    {
      "cell_type": "markdown",
      "metadata": {
        "id": "bR-dMcaauDbW"
      },
      "source": [
        "# Variância e desvio padrão de uma distribuição discreta de probabilidades\n",
        "Calcule a variância e o desvio padrão da distribuição estudada nos itens anteriores."
      ]
    },
    {
      "cell_type": "code",
      "execution_count": 5,
      "metadata": {
        "id": "n2uXl6zEuEKr"
      },
      "outputs": [
        {
          "data": {
            "text/html": [
              "<div>\n",
              "<style scoped>\n",
              "    .dataframe tbody tr th:only-of-type {\n",
              "        vertical-align: middle;\n",
              "    }\n",
              "\n",
              "    .dataframe tbody tr th {\n",
              "        vertical-align: top;\n",
              "    }\n",
              "\n",
              "    .dataframe thead th {\n",
              "        text-align: right;\n",
              "    }\n",
              "</style>\n",
              "<table border=\"1\" class=\"dataframe\">\n",
              "  <thead>\n",
              "    <tr style=\"text-align: right;\">\n",
              "      <th></th>\n",
              "      <th>Vendas</th>\n",
              "      <th>Dias</th>\n",
              "      <th>P(x)</th>\n",
              "      <th>P(x) acum</th>\n",
              "      <th>x^2P(x)</th>\n",
              "    </tr>\n",
              "  </thead>\n",
              "  <tbody>\n",
              "    <tr>\n",
              "      <th>0</th>\n",
              "      <td>0</td>\n",
              "      <td>16</td>\n",
              "      <td>0.16</td>\n",
              "      <td>0.16</td>\n",
              "      <td>0.000000</td>\n",
              "    </tr>\n",
              "    <tr>\n",
              "      <th>1</th>\n",
              "      <td>1</td>\n",
              "      <td>19</td>\n",
              "      <td>0.19</td>\n",
              "      <td>0.35</td>\n",
              "      <td>5.263158</td>\n",
              "    </tr>\n",
              "    <tr>\n",
              "      <th>2</th>\n",
              "      <td>2</td>\n",
              "      <td>15</td>\n",
              "      <td>0.15</td>\n",
              "      <td>0.50</td>\n",
              "      <td>26.666667</td>\n",
              "    </tr>\n",
              "    <tr>\n",
              "      <th>3</th>\n",
              "      <td>3</td>\n",
              "      <td>21</td>\n",
              "      <td>0.21</td>\n",
              "      <td>0.71</td>\n",
              "      <td>42.857143</td>\n",
              "    </tr>\n",
              "    <tr>\n",
              "      <th>4</th>\n",
              "      <td>4</td>\n",
              "      <td>9</td>\n",
              "      <td>0.09</td>\n",
              "      <td>0.80</td>\n",
              "      <td>177.777778</td>\n",
              "    </tr>\n",
              "    <tr>\n",
              "      <th>5</th>\n",
              "      <td>5</td>\n",
              "      <td>10</td>\n",
              "      <td>0.10</td>\n",
              "      <td>0.90</td>\n",
              "      <td>250.000000</td>\n",
              "    </tr>\n",
              "    <tr>\n",
              "      <th>6</th>\n",
              "      <td>6</td>\n",
              "      <td>8</td>\n",
              "      <td>0.08</td>\n",
              "      <td>0.98</td>\n",
              "      <td>450.000000</td>\n",
              "    </tr>\n",
              "    <tr>\n",
              "      <th>7</th>\n",
              "      <td>7</td>\n",
              "      <td>2</td>\n",
              "      <td>0.02</td>\n",
              "      <td>1.00</td>\n",
              "      <td>2450.000000</td>\n",
              "    </tr>\n",
              "  </tbody>\n",
              "</table>\n",
              "</div>"
            ],
            "text/plain": [
              "   Vendas  Dias  P(x)  P(x) acum      x^2P(x)\n",
              "0       0    16  0.16       0.16     0.000000\n",
              "1       1    19  0.19       0.35     5.263158\n",
              "2       2    15  0.15       0.50    26.666667\n",
              "3       3    21  0.21       0.71    42.857143\n",
              "4       4     9  0.09       0.80   177.777778\n",
              "5       5    10  0.10       0.90   250.000000\n",
              "6       6     8  0.08       0.98   450.000000\n",
              "7       7     2  0.02       1.00  2450.000000"
            ]
          },
          "metadata": {},
          "output_type": "display_data"
        },
        {
          "name": "stdout",
          "output_type": "stream",
          "text": [
            "A variância da distribuição é de 3395.8 (vendas/dia)^2.\n",
            "O desvio padrão da distribuição é de 58.3 vendas/dia.\n"
          ]
        }
      ],
      "source": [
        "# Inserção da coluna Vendas^2*Probabilidades\n",
        "'''Seu código aqui!'''\n",
        "tabela['x^2P(x)'] = tabela['Vendas']**2 / tabela['P(x)']\n",
        "\n",
        "display(tabela)\n",
        "# Cálculo da variância da distribuição\n",
        "'''Seu código aqui!'''\n",
        "variancia = tabela['x^2P(x)'].sum() - media**2\n",
        "print(f'A variância da distribuição é de {variancia:.1f} (vendas/dia)^2.')\n",
        "# Cálculo do desvio padrão da distribuição\n",
        "'''Seu código aqui!'''\n",
        "desvio = variancia**0.5\n",
        "print(f'O desvio padrão da distribuição é de {desvio:.1f} vendas/dia.')"
      ]
    }
  ],
  "metadata": {
    "colab": {
      "collapsed_sections": [],
      "provenance": []
    },
    "kernelspec": {
      "display_name": "Python 3.9.13 64-bit",
      "language": "python",
      "name": "python3"
    },
    "language_info": {
      "codemirror_mode": {
        "name": "ipython",
        "version": 3
      },
      "file_extension": ".py",
      "mimetype": "text/x-python",
      "name": "python",
      "nbconvert_exporter": "python",
      "pygments_lexer": "ipython3",
      "version": "3.9.13"
    },
    "vscode": {
      "interpreter": {
        "hash": "8e284ee3255a07ad8bf76694974743c4c81cb57e7c969474d752d949b11d721e"
      }
    }
  },
  "nbformat": 4,
  "nbformat_minor": 0
}
