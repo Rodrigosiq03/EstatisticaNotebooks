{
  "cells": [
    {
      "cell_type": "markdown",
      "metadata": {
        "id": "ap2tq9N8zW9s"
      },
      "source": [
        "# Probabilidades condicionais - Esportes\n",
        "O conjunto de dados a seguir relaciona os esportes preferidos de 300 pessoas. Execute o código e inspecione algumas linhas do DataFrame."
      ]
    },
    {
      "cell_type": "code",
      "execution_count": 1,
      "metadata": {
        "id": "KhmT87Yiygrc"
      },
      "outputs": [
        {
          "data": {
            "text/html": [
              "<div>\n",
              "<style scoped>\n",
              "    .dataframe tbody tr th:only-of-type {\n",
              "        vertical-align: middle;\n",
              "    }\n",
              "\n",
              "    .dataframe tbody tr th {\n",
              "        vertical-align: top;\n",
              "    }\n",
              "\n",
              "    .dataframe thead th {\n",
              "        text-align: right;\n",
              "    }\n",
              "</style>\n",
              "<table border=\"1\" class=\"dataframe\">\n",
              "  <thead>\n",
              "    <tr style=\"text-align: right;\">\n",
              "      <th></th>\n",
              "      <th>gênero</th>\n",
              "      <th>esporte</th>\n",
              "    </tr>\n",
              "  </thead>\n",
              "  <tbody>\n",
              "    <tr>\n",
              "      <th>0</th>\n",
              "      <td>Masculino</td>\n",
              "      <td>Beisebol</td>\n",
              "    </tr>\n",
              "    <tr>\n",
              "      <th>1</th>\n",
              "      <td>Masculino</td>\n",
              "      <td>Beisebol</td>\n",
              "    </tr>\n",
              "    <tr>\n",
              "      <th>2</th>\n",
              "      <td>Masculino</td>\n",
              "      <td>Beisebol</td>\n",
              "    </tr>\n",
              "    <tr>\n",
              "      <th>3</th>\n",
              "      <td>Masculino</td>\n",
              "      <td>Beisebol</td>\n",
              "    </tr>\n",
              "    <tr>\n",
              "      <th>4</th>\n",
              "      <td>Masculino</td>\n",
              "      <td>Beisebol</td>\n",
              "    </tr>\n",
              "  </tbody>\n",
              "</table>\n",
              "</div>"
            ],
            "text/plain": [
              "      gênero   esporte\n",
              "0  Masculino  Beisebol\n",
              "1  Masculino  Beisebol\n",
              "2  Masculino  Beisebol\n",
              "3  Masculino  Beisebol\n",
              "4  Masculino  Beisebol"
            ]
          },
          "metadata": {},
          "output_type": "display_data"
        },
        {
          "data": {
            "text/html": [
              "<div>\n",
              "<style scoped>\n",
              "    .dataframe tbody tr th:only-of-type {\n",
              "        vertical-align: middle;\n",
              "    }\n",
              "\n",
              "    .dataframe tbody tr th {\n",
              "        vertical-align: top;\n",
              "    }\n",
              "\n",
              "    .dataframe thead th {\n",
              "        text-align: right;\n",
              "    }\n",
              "</style>\n",
              "<table border=\"1\" class=\"dataframe\">\n",
              "  <thead>\n",
              "    <tr style=\"text-align: right;\">\n",
              "      <th></th>\n",
              "      <th>gênero</th>\n",
              "      <th>esporte</th>\n",
              "    </tr>\n",
              "  </thead>\n",
              "  <tbody>\n",
              "    <tr>\n",
              "      <th>295</th>\n",
              "      <td>Feminino</td>\n",
              "      <td>Vôlei</td>\n",
              "    </tr>\n",
              "    <tr>\n",
              "      <th>296</th>\n",
              "      <td>Feminino</td>\n",
              "      <td>Vôlei</td>\n",
              "    </tr>\n",
              "    <tr>\n",
              "      <th>297</th>\n",
              "      <td>Feminino</td>\n",
              "      <td>Vôlei</td>\n",
              "    </tr>\n",
              "    <tr>\n",
              "      <th>298</th>\n",
              "      <td>Feminino</td>\n",
              "      <td>Vôlei</td>\n",
              "    </tr>\n",
              "    <tr>\n",
              "      <th>299</th>\n",
              "      <td>Feminino</td>\n",
              "      <td>Vôlei</td>\n",
              "    </tr>\n",
              "  </tbody>\n",
              "</table>\n",
              "</div>"
            ],
            "text/plain": [
              "       gênero esporte\n",
              "295  Feminino   Vôlei\n",
              "296  Feminino   Vôlei\n",
              "297  Feminino   Vôlei\n",
              "298  Feminino   Vôlei\n",
              "299  Feminino   Vôlei"
            ]
          },
          "metadata": {},
          "output_type": "display_data"
        }
      ],
      "source": [
        "import pandas as pd\n",
        "import numpy as np\n",
        "\n",
        "# Criação do pandas DataFrame\n",
        "esportes = pd.DataFrame({'gênero': np.repeat(np.array(['Masculino', 'Feminino']), 150),\n",
        "                         'esporte': np.repeat(np.array(['Beisebol', 'Basquete',\n",
        "                                                        'Futebol', 'Vôlei',\n",
        "                                                        'Beisebol', 'Basquete',\n",
        "                                                        'Futebol', 'Vôlei']),\n",
        "                                              (34, 40, 58, 18, 34, 52, 20, 44))})\n",
        "# Inspeção de algumas linhas do painel de dados\n",
        "display(esportes.head())\n",
        "display(esportes.tail())\n"
      ]
    },
    {
      "cell_type": "markdown",
      "metadata": {
        "id": "pOweA9LK004h"
      },
      "source": [
        "## Tabela de distribuição conjunta de frequências\n",
        "O cálculo de probabiidades condicionais fica facilitado a partir de uma tabela de distribuição conjunta de frequências. No caso desse exemplo, a tabela indicará as ocorrências de cada esporte em função do gênero do entrevistado. As colunas e linhas de rótulo \"All\" revelam os totais de ocorrências."
      ]
    },
    {
      "cell_type": "code",
      "execution_count": 4,
      "metadata": {
        "id": "nGqstkvf0lLY"
      },
      "outputs": [
        {
          "data": {
            "text/html": [
              "<div>\n",
              "<style scoped>\n",
              "    .dataframe tbody tr th:only-of-type {\n",
              "        vertical-align: middle;\n",
              "    }\n",
              "\n",
              "    .dataframe tbody tr th {\n",
              "        vertical-align: top;\n",
              "    }\n",
              "\n",
              "    .dataframe thead th {\n",
              "        text-align: right;\n",
              "    }\n",
              "</style>\n",
              "<table border=\"1\" class=\"dataframe\">\n",
              "  <thead>\n",
              "    <tr style=\"text-align: right;\">\n",
              "      <th>esporte</th>\n",
              "      <th>Basquete</th>\n",
              "      <th>Beisebol</th>\n",
              "      <th>Futebol</th>\n",
              "      <th>Vôlei</th>\n",
              "      <th>All</th>\n",
              "    </tr>\n",
              "    <tr>\n",
              "      <th>gênero</th>\n",
              "      <th></th>\n",
              "      <th></th>\n",
              "      <th></th>\n",
              "      <th></th>\n",
              "      <th></th>\n",
              "    </tr>\n",
              "  </thead>\n",
              "  <tbody>\n",
              "    <tr>\n",
              "      <th>Feminino</th>\n",
              "      <td>52</td>\n",
              "      <td>34</td>\n",
              "      <td>20</td>\n",
              "      <td>44</td>\n",
              "      <td>150</td>\n",
              "    </tr>\n",
              "    <tr>\n",
              "      <th>Masculino</th>\n",
              "      <td>40</td>\n",
              "      <td>34</td>\n",
              "      <td>58</td>\n",
              "      <td>18</td>\n",
              "      <td>150</td>\n",
              "    </tr>\n",
              "    <tr>\n",
              "      <th>All</th>\n",
              "      <td>92</td>\n",
              "      <td>68</td>\n",
              "      <td>78</td>\n",
              "      <td>62</td>\n",
              "      <td>300</td>\n",
              "    </tr>\n",
              "  </tbody>\n",
              "</table>\n",
              "</div>"
            ],
            "text/plain": [
              "esporte    Basquete  Beisebol  Futebol  Vôlei  All\n",
              "gênero                                            \n",
              "Feminino         52        34       20     44  150\n",
              "Masculino        40        34       58     18  150\n",
              "All              92        68       78     62  300"
            ]
          },
          "metadata": {},
          "output_type": "display_data"
        }
      ],
      "source": [
        "# Construção da tabela de distrbuição conjunta\n",
        "'''Seu código aqui!'''\n",
        "dist_conj = pd.crosstab(index=esportes['gênero'], columns=esportes['esporte'], margins=True)\n",
        "# Inspeção da tabela de distribuição conjunta\n",
        "display(dist_conj)"
      ]
    },
    {
      "cell_type": "markdown",
      "metadata": {
        "id": "Agwju0zB18VR"
      },
      "source": [
        "## Cálculo de probabilidades condicionais\n",
        "Use a tabela de distribuição conjunta da cálula anterior e calcule a probabilidade de que um indivíduo sorteado aleatoriamente:\n",
        "\n",
        "*   seja do gênero masculino, visto que seu esporte preferido é o beisebol.\n",
        "*   tenha por esporte preferido o basquete, dado que seja do gênero feminino.\n",
        "\n",
        "No cáclulo dessas probabilidades, use o método iloc do pandas DataFrame para localizar a informação desejada em termos das coordenadas de linha e coluna da tabela de distribuição conjunta.\n",
        "\n"
      ]
    },
    {
      "cell_type": "code",
      "execution_count": 7,
      "metadata": {
        "id": "rW5088Nb19LS"
      },
      "outputs": [
        {
          "name": "stdout",
          "output_type": "stream",
          "text": [
            "P(masculino|beisebol) = 50.00%\n",
            "P(basquete|feminino) = 34.67%\n"
          ]
        }
      ],
      "source": [
        "# Probabilidade de ser do gênero masculino, dado que é fã de beisebol\n",
        "'''Seu código aqui!'''\n",
        "prob1 = dist_conj.iloc[1, 1] / dist_conj.iloc[2, 1]\n",
        "print(f'P(masculino|beisebol) = {prob1*100:.2f}%')\n",
        "\n",
        "# Probabilidade de ser fã de basquete, dado que é do gênero feminino\n",
        "'''Seu código aqui!'''\n",
        "prob2 = dist_conj.iloc[0, 0] / dist_conj.iloc[0, 4]\n",
        "print(f'P(basquete|feminino) = {prob2*100:.2f}%')"
      ]
    },
    {
      "cell_type": "markdown",
      "metadata": {
        "id": "1OlxXkJI5SrT"
      },
      "source": [
        "## Distribuição conjunta normalizada pelas colunas\n",
        "\n",
        "Para determinar todas as probabilidades condicionais do tipo P(Gênero|Esporte), basta normalizar a tabela de distribuição conjunta usando as colunas."
      ]
    },
    {
      "cell_type": "code",
      "execution_count": 8,
      "metadata": {
        "id": "OKgEmEPWzjYz"
      },
      "outputs": [
        {
          "data": {
            "text/html": [
              "<div>\n",
              "<style scoped>\n",
              "    .dataframe tbody tr th:only-of-type {\n",
              "        vertical-align: middle;\n",
              "    }\n",
              "\n",
              "    .dataframe tbody tr th {\n",
              "        vertical-align: top;\n",
              "    }\n",
              "\n",
              "    .dataframe thead th {\n",
              "        text-align: right;\n",
              "    }\n",
              "</style>\n",
              "<table border=\"1\" class=\"dataframe\">\n",
              "  <thead>\n",
              "    <tr style=\"text-align: right;\">\n",
              "      <th>esporte</th>\n",
              "      <th>Basquete</th>\n",
              "      <th>Beisebol</th>\n",
              "      <th>Futebol</th>\n",
              "      <th>Vôlei</th>\n",
              "      <th>All</th>\n",
              "    </tr>\n",
              "    <tr>\n",
              "      <th>gênero</th>\n",
              "      <th></th>\n",
              "      <th></th>\n",
              "      <th></th>\n",
              "      <th></th>\n",
              "      <th></th>\n",
              "    </tr>\n",
              "  </thead>\n",
              "  <tbody>\n",
              "    <tr>\n",
              "      <th>Feminino</th>\n",
              "      <td>0.565217</td>\n",
              "      <td>0.5</td>\n",
              "      <td>0.25641</td>\n",
              "      <td>0.709677</td>\n",
              "      <td>0.5</td>\n",
              "    </tr>\n",
              "    <tr>\n",
              "      <th>Masculino</th>\n",
              "      <td>0.434783</td>\n",
              "      <td>0.5</td>\n",
              "      <td>0.74359</td>\n",
              "      <td>0.290323</td>\n",
              "      <td>0.5</td>\n",
              "    </tr>\n",
              "  </tbody>\n",
              "</table>\n",
              "</div>"
            ],
            "text/plain": [
              "esporte    Basquete  Beisebol  Futebol     Vôlei  All\n",
              "gênero                                               \n",
              "Feminino   0.565217       0.5  0.25641  0.709677  0.5\n",
              "Masculino  0.434783       0.5  0.74359  0.290323  0.5"
            ]
          },
          "metadata": {},
          "output_type": "display_data"
        }
      ],
      "source": [
        "''' Tabela de distribuição conjunta normalizada pelas colunas: Em nosso exemplo,\n",
        "exibe todas as probabilidades condicionais do tipo P(Gênero|Esporte)'''\n",
        "'''Seu código aqui!'''\n",
        "dist_conj_colunas = pd.crosstab(index=esportes['gênero'],\n",
        "                                columns=esportes['esporte'],\n",
        "                                margins=True,\n",
        "                                normalize='columns')\n",
        "# Inspeção da tabela\n",
        "display(dist_conj_colunas)"
      ]
    },
    {
      "cell_type": "markdown",
      "metadata": {
        "id": "z5aixEBm6wEk"
      },
      "source": [
        "## Distribuição conjunta normalizada pelas linhas (índice)\n",
        "\n",
        "Em contraste, para determinar todas as probabilidades condicionais do tipo P(Esporte|Gênero), basta normalizar a tabela de distribuição conjunta usando as linhas (ou seja, os índices)."
      ]
    },
    {
      "cell_type": "code",
      "execution_count": 9,
      "metadata": {
        "id": "lDmVKLpuy83F"
      },
      "outputs": [
        {
          "data": {
            "text/html": [
              "<div>\n",
              "<style scoped>\n",
              "    .dataframe tbody tr th:only-of-type {\n",
              "        vertical-align: middle;\n",
              "    }\n",
              "\n",
              "    .dataframe tbody tr th {\n",
              "        vertical-align: top;\n",
              "    }\n",
              "\n",
              "    .dataframe thead th {\n",
              "        text-align: right;\n",
              "    }\n",
              "</style>\n",
              "<table border=\"1\" class=\"dataframe\">\n",
              "  <thead>\n",
              "    <tr style=\"text-align: right;\">\n",
              "      <th>esporte</th>\n",
              "      <th>Basquete</th>\n",
              "      <th>Beisebol</th>\n",
              "      <th>Futebol</th>\n",
              "      <th>Vôlei</th>\n",
              "    </tr>\n",
              "    <tr>\n",
              "      <th>gênero</th>\n",
              "      <th></th>\n",
              "      <th></th>\n",
              "      <th></th>\n",
              "      <th></th>\n",
              "    </tr>\n",
              "  </thead>\n",
              "  <tbody>\n",
              "    <tr>\n",
              "      <th>Feminino</th>\n",
              "      <td>0.346667</td>\n",
              "      <td>0.226667</td>\n",
              "      <td>0.133333</td>\n",
              "      <td>0.293333</td>\n",
              "    </tr>\n",
              "    <tr>\n",
              "      <th>Masculino</th>\n",
              "      <td>0.266667</td>\n",
              "      <td>0.226667</td>\n",
              "      <td>0.386667</td>\n",
              "      <td>0.120000</td>\n",
              "    </tr>\n",
              "    <tr>\n",
              "      <th>All</th>\n",
              "      <td>0.306667</td>\n",
              "      <td>0.226667</td>\n",
              "      <td>0.260000</td>\n",
              "      <td>0.206667</td>\n",
              "    </tr>\n",
              "  </tbody>\n",
              "</table>\n",
              "</div>"
            ],
            "text/plain": [
              "esporte    Basquete  Beisebol   Futebol     Vôlei\n",
              "gênero                                           \n",
              "Feminino   0.346667  0.226667  0.133333  0.293333\n",
              "Masculino  0.266667  0.226667  0.386667  0.120000\n",
              "All        0.306667  0.226667  0.260000  0.206667"
            ]
          },
          "metadata": {},
          "output_type": "display_data"
        }
      ],
      "source": [
        "''' Tabela de distribuição conjunta normalizada pelas linhas: Em nosso exemplo,\n",
        "exibe todas as probabilidades condicionais do tipo P(Esporte|Gênero)'''\n",
        "'''Seu código aqui!'''\n",
        "dist_conj_linhas = pd.crosstab(index=esportes['gênero'],\n",
        "                                columns=esportes['esporte'],\n",
        "                                margins=True,\n",
        "                                normalize='index')\n",
        "\n",
        "# Inspeção da tabela\n",
        "display(dist_conj_linhas)"
      ]
    },
    {
      "cell_type": "markdown",
      "metadata": {
        "id": "6skoVZPg7q9M"
      },
      "source": [
        "# Probabilidades condicionais - automóveis\n",
        "O conjunto de dados a seguir reune informações sobre a montadora, o modelo, o tipo e a classificação (nota atribuída por imprensa qualificada) de alguns automóveis."
      ]
    },
    {
      "cell_type": "code",
      "execution_count": 11,
      "metadata": {
        "id": "gM6aPWRY19z6"
      },
      "outputs": [
        {
          "data": {
            "text/html": [
              "<div>\n",
              "<style scoped>\n",
              "    .dataframe tbody tr th:only-of-type {\n",
              "        vertical-align: middle;\n",
              "    }\n",
              "\n",
              "    .dataframe tbody tr th {\n",
              "        vertical-align: top;\n",
              "    }\n",
              "\n",
              "    .dataframe thead th {\n",
              "        text-align: right;\n",
              "    }\n",
              "</style>\n",
              "<table border=\"1\" class=\"dataframe\">\n",
              "  <thead>\n",
              "    <tr style=\"text-align: right;\">\n",
              "      <th></th>\n",
              "      <th>montadora</th>\n",
              "      <th>modelo</th>\n",
              "      <th>nota</th>\n",
              "      <th>tipo</th>\n",
              "    </tr>\n",
              "  </thead>\n",
              "  <tbody>\n",
              "    <tr>\n",
              "      <th>0</th>\n",
              "      <td>ford</td>\n",
              "      <td>mustang</td>\n",
              "      <td>A</td>\n",
              "      <td>coupe</td>\n",
              "    </tr>\n",
              "    <tr>\n",
              "      <th>1</th>\n",
              "      <td>chevy</td>\n",
              "      <td>camaro</td>\n",
              "      <td>B</td>\n",
              "      <td>coupe</td>\n",
              "    </tr>\n",
              "    <tr>\n",
              "      <th>2</th>\n",
              "      <td>ford</td>\n",
              "      <td>fiesta</td>\n",
              "      <td>C</td>\n",
              "      <td>sedan</td>\n",
              "    </tr>\n",
              "    <tr>\n",
              "      <th>3</th>\n",
              "      <td>ford</td>\n",
              "      <td>focus</td>\n",
              "      <td>A</td>\n",
              "      <td>sedan</td>\n",
              "    </tr>\n",
              "    <tr>\n",
              "      <th>4</th>\n",
              "      <td>ford</td>\n",
              "      <td>taurus</td>\n",
              "      <td>B</td>\n",
              "      <td>sedan</td>\n",
              "    </tr>\n",
              "    <tr>\n",
              "      <th>5</th>\n",
              "      <td>toyota</td>\n",
              "      <td>camry</td>\n",
              "      <td>B</td>\n",
              "      <td>sedan</td>\n",
              "    </tr>\n",
              "  </tbody>\n",
              "</table>\n",
              "</div>"
            ],
            "text/plain": [
              "  montadora   modelo nota   tipo\n",
              "0      ford  mustang    A  coupe\n",
              "1     chevy   camaro    B  coupe\n",
              "2      ford   fiesta    C  sedan\n",
              "3      ford    focus    A  sedan\n",
              "4      ford   taurus    B  sedan\n",
              "5    toyota    camry    B  sedan"
            ]
          },
          "metadata": {},
          "output_type": "display_data"
        }
      ],
      "source": [
        "# Construção do conjunto de dados\n",
        "auto = pd.DataFrame({'montadora': ['ford', 'chevy', 'ford',\n",
        "                                   'ford', 'ford', 'toyota'],\n",
        "                     'modelo': ['mustang', 'camaro', 'fiesta',\n",
        "                                'focus', 'taurus', 'camry'],\n",
        "                     'nota': ['A', 'B', 'C', 'A', 'B', 'B'],\n",
        "                     'tipo': ['coupe', 'coupe', 'sedan',\n",
        "                              'sedan', 'sedan', 'sedan']})\n",
        "# Inspeção da tabela\n",
        "display(auto)"
      ]
    },
    {
      "cell_type": "markdown",
      "metadata": {
        "id": "WQb33ssf8pfI"
      },
      "source": [
        "Construa a tabela de distrbuição conjunta de frequências usando o tipo do automóvel como indexador de linhas e as respectivas notas como colunas. A seguir, calcule a probabilidade de um automóvel: \n",
        "\n",
        "*   ser classificado com nota A, dado que é do tipo sedan.\n",
        "*   ser do tipo coupe, dado que foi avaliado com nota B.\n",
        "\n"
      ]
    },
    {
      "cell_type": "code",
      "execution_count": 12,
      "metadata": {
        "id": "N_OLeRb28K35"
      },
      "outputs": [
        {
          "data": {
            "text/html": [
              "<div>\n",
              "<style scoped>\n",
              "    .dataframe tbody tr th:only-of-type {\n",
              "        vertical-align: middle;\n",
              "    }\n",
              "\n",
              "    .dataframe tbody tr th {\n",
              "        vertical-align: top;\n",
              "    }\n",
              "\n",
              "    .dataframe thead th {\n",
              "        text-align: right;\n",
              "    }\n",
              "</style>\n",
              "<table border=\"1\" class=\"dataframe\">\n",
              "  <thead>\n",
              "    <tr style=\"text-align: right;\">\n",
              "      <th>nota</th>\n",
              "      <th>A</th>\n",
              "      <th>B</th>\n",
              "      <th>C</th>\n",
              "      <th>All</th>\n",
              "    </tr>\n",
              "    <tr>\n",
              "      <th>tipo</th>\n",
              "      <th></th>\n",
              "      <th></th>\n",
              "      <th></th>\n",
              "      <th></th>\n",
              "    </tr>\n",
              "  </thead>\n",
              "  <tbody>\n",
              "    <tr>\n",
              "      <th>coupe</th>\n",
              "      <td>1</td>\n",
              "      <td>1</td>\n",
              "      <td>0</td>\n",
              "      <td>2</td>\n",
              "    </tr>\n",
              "    <tr>\n",
              "      <th>sedan</th>\n",
              "      <td>1</td>\n",
              "      <td>2</td>\n",
              "      <td>1</td>\n",
              "      <td>4</td>\n",
              "    </tr>\n",
              "    <tr>\n",
              "      <th>All</th>\n",
              "      <td>2</td>\n",
              "      <td>3</td>\n",
              "      <td>1</td>\n",
              "      <td>6</td>\n",
              "    </tr>\n",
              "  </tbody>\n",
              "</table>\n",
              "</div>"
            ],
            "text/plain": [
              "nota   A  B  C  All\n",
              "tipo               \n",
              "coupe  1  1  0    2\n",
              "sedan  1  2  1    4\n",
              "All    2  3  1    6"
            ]
          },
          "metadata": {},
          "output_type": "display_data"
        },
        {
          "data": {
            "text/plain": [
              "'Seu código aqui!'"
            ]
          },
          "execution_count": 12,
          "metadata": {},
          "output_type": "execute_result"
        }
      ],
      "source": [
        "# Construção da tabela de distribuição conjunta\n",
        "'''Seu código aqui!'''\n",
        "tabela = pd.crosstab(auto.tipo, auto.nota, margins=True)\n",
        "# Inspeção da tabela\n",
        "display(tabela)\n",
        "# Cálculo das probabilidades\n",
        "'''Seu código aqui!'''\n",
        "prob_1 = tabela.iloc[1, 0] / tabela.iloc[1, 3]\n",
        "print(f'P(A|Sedan) = {prob_1*100:.2f}%')\n",
        "\n",
        "prob_2 = tabela.iloc[0, 1] / tabela.iloc[2, 1]\n",
        "print(f'P(A|Sedan) = {prob_2*100:.2f}%')\n",
        "\n"
      ]
    },
    {
      "cell_type": "markdown",
      "metadata": {
        "id": "_v3xnH0E_c_I"
      },
      "source": [
        "Verifique seus cálculos ao construir versões da tabela de distribuição conjunta normalizadas pelas colunas e linhas."
      ]
    },
    {
      "cell_type": "code",
      "execution_count": 15,
      "metadata": {
        "id": "dtgSTtSq9JTZ"
      },
      "outputs": [
        {
          "name": "stdout",
          "output_type": "stream",
          "text": [
            "** Probabilidades condicionais: P(nota|tipo) **\n"
          ]
        },
        {
          "data": {
            "text/html": [
              "<div>\n",
              "<style scoped>\n",
              "    .dataframe tbody tr th:only-of-type {\n",
              "        vertical-align: middle;\n",
              "    }\n",
              "\n",
              "    .dataframe tbody tr th {\n",
              "        vertical-align: top;\n",
              "    }\n",
              "\n",
              "    .dataframe thead th {\n",
              "        text-align: right;\n",
              "    }\n",
              "</style>\n",
              "<table border=\"1\" class=\"dataframe\">\n",
              "  <thead>\n",
              "    <tr style=\"text-align: right;\">\n",
              "      <th>nota</th>\n",
              "      <th>A</th>\n",
              "      <th>B</th>\n",
              "      <th>C</th>\n",
              "    </tr>\n",
              "    <tr>\n",
              "      <th>tipo</th>\n",
              "      <th></th>\n",
              "      <th></th>\n",
              "      <th></th>\n",
              "    </tr>\n",
              "  </thead>\n",
              "  <tbody>\n",
              "    <tr>\n",
              "      <th>coupe</th>\n",
              "      <td>0.500000</td>\n",
              "      <td>0.5</td>\n",
              "      <td>0.000000</td>\n",
              "    </tr>\n",
              "    <tr>\n",
              "      <th>sedan</th>\n",
              "      <td>0.250000</td>\n",
              "      <td>0.5</td>\n",
              "      <td>0.250000</td>\n",
              "    </tr>\n",
              "    <tr>\n",
              "      <th>All</th>\n",
              "      <td>0.333333</td>\n",
              "      <td>0.5</td>\n",
              "      <td>0.166667</td>\n",
              "    </tr>\n",
              "  </tbody>\n",
              "</table>\n",
              "</div>"
            ],
            "text/plain": [
              "nota          A    B         C\n",
              "tipo                          \n",
              "coupe  0.500000  0.5  0.000000\n",
              "sedan  0.250000  0.5  0.250000\n",
              "All    0.333333  0.5  0.166667"
            ]
          },
          "metadata": {},
          "output_type": "display_data"
        },
        {
          "name": "stdout",
          "output_type": "stream",
          "text": [
            "** Probabilidades condicionais: P(tipo|nota) **\n"
          ]
        },
        {
          "data": {
            "text/html": [
              "<div>\n",
              "<style scoped>\n",
              "    .dataframe tbody tr th:only-of-type {\n",
              "        vertical-align: middle;\n",
              "    }\n",
              "\n",
              "    .dataframe tbody tr th {\n",
              "        vertical-align: top;\n",
              "    }\n",
              "\n",
              "    .dataframe thead th {\n",
              "        text-align: right;\n",
              "    }\n",
              "</style>\n",
              "<table border=\"1\" class=\"dataframe\">\n",
              "  <thead>\n",
              "    <tr style=\"text-align: right;\">\n",
              "      <th>nota</th>\n",
              "      <th>A</th>\n",
              "      <th>B</th>\n",
              "      <th>C</th>\n",
              "      <th>All</th>\n",
              "    </tr>\n",
              "    <tr>\n",
              "      <th>tipo</th>\n",
              "      <th></th>\n",
              "      <th></th>\n",
              "      <th></th>\n",
              "      <th></th>\n",
              "    </tr>\n",
              "  </thead>\n",
              "  <tbody>\n",
              "    <tr>\n",
              "      <th>coupe</th>\n",
              "      <td>0.5</td>\n",
              "      <td>0.333333</td>\n",
              "      <td>0.0</td>\n",
              "      <td>0.333333</td>\n",
              "    </tr>\n",
              "    <tr>\n",
              "      <th>sedan</th>\n",
              "      <td>0.5</td>\n",
              "      <td>0.666667</td>\n",
              "      <td>1.0</td>\n",
              "      <td>0.666667</td>\n",
              "    </tr>\n",
              "  </tbody>\n",
              "</table>\n",
              "</div>"
            ],
            "text/plain": [
              "nota     A         B    C       All\n",
              "tipo                               \n",
              "coupe  0.5  0.333333  0.0  0.333333\n",
              "sedan  0.5  0.666667  1.0  0.666667"
            ]
          },
          "metadata": {},
          "output_type": "display_data"
        }
      ],
      "source": [
        "# Probabilidades condicionais: P(nota|tipo)\n",
        "print('** Probabilidades condicionais: P(nota|tipo) **')\n",
        "'''Seu código aqui!'''\n",
        "tabela_linhas = pd.crosstab(auto.tipo, auto.nota, margins=True, normalize='index')\n",
        "display(tabela_linhas)\n",
        "# Probabilidades condicionais: P(tipo|nota)\n",
        "print('** Probabilidades condicionais: P(tipo|nota) **')\n",
        "'''Seu código aqui!'''\n",
        "tabela_colunas = pd.crosstab(auto.tipo, auto.nota, margins=True, normalize='columns')\n",
        "display(tabela_colunas)"
      ]
    }
  ],
  "metadata": {
    "colab": {
      "collapsed_sections": [],
      "provenance": []
    },
    "kernelspec": {
      "display_name": "Python 3.9.13 64-bit (microsoft store)",
      "language": "python",
      "name": "python3"
    },
    "language_info": {
      "codemirror_mode": {
        "name": "ipython",
        "version": 3
      },
      "file_extension": ".py",
      "mimetype": "text/x-python",
      "name": "python",
      "nbconvert_exporter": "python",
      "pygments_lexer": "ipython3",
      "version": "3.9.13"
    },
    "vscode": {
      "interpreter": {
        "hash": "2409c8f59207a258aca3c1a1a678234dae74af7fa03836267637fb9eb86e1b05"
      }
    }
  },
  "nbformat": 4,
  "nbformat_minor": 0
}
